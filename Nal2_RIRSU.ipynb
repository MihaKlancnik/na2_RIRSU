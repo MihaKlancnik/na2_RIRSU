{
  "nbformat": 4,
  "nbformat_minor": 0,
  "metadata": {
    "colab": {
      "provenance": [],
      "authorship_tag": "ABX9TyMqQVRotnrFy6DIPwq4U0Hn",
      "include_colab_link": true
    },
    "kernelspec": {
      "name": "python3",
      "display_name": "Python 3"
    },
    "language_info": {
      "name": "python"
    }
  },
  "cells": [
    {
      "cell_type": "markdown",
      "metadata": {
        "id": "view-in-github",
        "colab_type": "text"
      },
      "source": [
        "<a href=\"https://colab.research.google.com/github/MihaKlancnik/na2_RIRSU/blob/main/Nal2_RIRSU.ipynb\" target=\"_parent\"><img src=\"https://colab.research.google.com/assets/colab-badge.svg\" alt=\"Open In Colab\"/></a>"
      ]
    },
    {
      "cell_type": "code",
      "source": [
        "\n",
        "import os\n",
        "import re\n",
        "from IPython.display import display, Image\n",
        "import numpy as np\n",
        "from PIL import Image as PILImage"
      ],
      "metadata": {
        "id": "OfUelz1WhO4w"
      },
      "execution_count": 34,
      "outputs": []
    },
    {
      "cell_type": "code",
      "source": [
        "\n",
        "\n",
        "circles_path = '/content/drive/MyDrive/Colab Notebooks/shapes/circles'\n",
        "squares_path = '/content/drive/MyDrive/Colab Notebooks/shapes/squares'\n",
        "triangles_path = '/content/drive/MyDrive/Colab Notebooks/shapes/triangles'\n",
        "\n",
        "\n",
        "circles_list = []\n",
        "squares_list = []\n",
        "triangles_list = []\n",
        "\n",
        "for filename in os.listdir(circles_path):\n",
        "  f = os.path.join(circles_path, filename)\n",
        "  if os.path.isfile(f):\n",
        "    circles_list.append(f)\n",
        "\n",
        "for filename in os.listdir(squares_path):\n",
        "  f = os.path.join(squares_path, filename)\n",
        "  if os.path.isfile(f):\n",
        "    squares_list.append(f)\n",
        "\n",
        "\n",
        "for filename in os.listdir(triangles_path):\n",
        "  f = os.path.join(triangles_path, filename)\n",
        "  if os.path.isfile(f):\n",
        "    triangles_list.append(f)\n",
        "\n",
        "\n"
      ],
      "metadata": {
        "id": "9e-amkGehM7V"
      },
      "execution_count": 35,
      "outputs": []
    },
    {
      "cell_type": "code",
      "source": [
        "\n",
        "\n",
        "display(Image(filename=circles_list[0]))\n",
        "display(Image(filename=squares_list[0]))\n",
        "display(Image(filename=triangles_list[0]))"
      ],
      "metadata": {
        "colab": {
          "base_uri": "https://localhost:8080/",
          "height": 101
        },
        "id": "TwkHNhz8hM1I",
        "outputId": "29d451f9-3845-4563-da83-737fa067daf9"
      },
      "execution_count": 36,
      "outputs": [
        {
          "output_type": "display_data",
          "data": {
            "image/png": "[encoded data removed]",
            "text/plain": [
              "<IPython.core.display.Image object>"
            ]
          },
          "metadata": {}
        },
        {
          "output_type": "display_data",
          "data": {
            "image/png": "[encoded data removed]",
            "text/plain": [
              "<IPython.core.display.Image object>"
            ]
          },
          "metadata": {}
        },
        {
          "output_type": "display_data",
          "data": {
            "image/png": "[encoded data removed]",
            "text/plain": [
              "<IPython.core.display.Image object>"
            ]
          },
          "metadata": {}
        }
      ]
    },
    {
      "cell_type": "code",
      "source": [
        "\n",
        "\n",
        "\n",
        "flattened_images = []\n",
        "labels = []\n",
        "\n",
        "def process_images(image_list, label):\n",
        "  for image_path in image_list:\n",
        "    img = PILImage.open(image_path).convert('L')\n",
        "    img_array = np.array(img).flatten()\n",
        "    flattened_images.append(img_array)\n",
        "    labels.append(label)\n",
        "\n",
        "\n",
        "process_images(circles_list, 'circle')\n",
        "process_images(squares_list, 'square')\n",
        "process_images(triangles_list, 'triangle')\n",
        "\n"
      ],
      "metadata": {
        "id": "YP0axMqdhMus",
        "colab": {
          "base_uri": "https://localhost:8080/",
          "height": 101
        },
        "outputId": "0b05474d-f665-4309-e4e6-7a947b7c64b2"
      },
      "execution_count": 37,
      "outputs": [
        {
          "output_type": "display_data",
          "data": {
            "image/png": "[encoded data removed]",
            "text/plain": [
              "<IPython.core.display.Image object>"
            ]
          },
          "metadata": {}
        },
        {
          "output_type": "display_data",
          "data": {
            "image/png": "[encoded data removed]",
            "text/plain": [
              "<IPython.core.display.Image object>"
            ]
          },
          "metadata": {}
        },
        {
          "output_type": "display_data",
          "data": {
            "image/png": "[encoded data removed]",
            "text/plain": [
              "<IPython.core.display.Image object>"
            ]
          },
          "metadata": {}
        }
      ]
    },
    {
      "cell_type": "code",
      "source": [],
      "metadata": {
        "id": "qEY1K8-8hMsg",
        "colab": {
          "base_uri": "https://localhost:8080/"
        },
        "outputId": "4445b740-39dc-4e57-be76-04bf9ef61c58"
      },
      "execution_count": 41,
      "outputs": [
        {
          "output_type": "stream",
          "name": "stdout",
          "text": [
            "300\n"
          ]
        }
      ]
    },
    {
      "cell_type": "code",
      "source": [],
      "metadata": {
        "id": "NGrI02KUhMqU"
      },
      "execution_count": null,
      "outputs": []
    },
    {
      "cell_type": "code",
      "source": [],
      "metadata": {
        "id": "y4fMl5KYhMoD"
      },
      "execution_count": null,
      "outputs": []
    },
    {
      "cell_type": "code",
      "source": [],
      "metadata": {
        "id": "Jl-1WItbhMlx"
      },
      "execution_count": null,
      "outputs": []
    },
    {
      "cell_type": "code",
      "source": [],
      "metadata": {
        "id": "JdQVvXmEhMj3"
      },
      "execution_count": null,
      "outputs": []
    },
    {
      "cell_type": "code",
      "source": [],
      "metadata": {
        "id": "qFDaUwBbhMha"
      },
      "execution_count": null,
      "outputs": []
    },
    {
      "cell_type": "code",
      "source": [
        "\n",
        "\n",
        "def flatten_image(image_path):\n",
        "  img = PILImage.open(image_path).convert('RGB')\n",
        "  img_array = np.array(img)\n",
        "  flattened_img = img_array.flatten()\n",
        "  return flattened_img\n",
        "\n",
        "# Example usage:\n",
        "for image_path in circles_list:\n",
        "  flattened_image = flatten_image(image_path)\n",
        "  print(f\"Image: {image_path}, Shape: Circle, Flattened Array: {flattened_image}\")\n",
        "\n",
        "for image_path in squares_list:\n",
        "  flattened_image = flatten_image(image_path)\n",
        "  print(f\"Image: {image_path}, Shape: Square, Flattened Array: {flattened_image}\")\n",
        "\n",
        "\n",
        "for image_path in triangles_list:\n",
        "  flattened_image = flatten_image(image_path)\n",
        "  print(f\"Image: {image_path}, Shape: Triangle, Flattened Array: {flattened_image}\")"
      ],
      "metadata": {
        "id": "LCRh6IAuhMfA"
      },
      "execution_count": null,
      "outputs": []
    },
    {
      "cell_type": "code",
      "source": [],
      "metadata": {
        "id": "lu2qUxSshMcZ"
      },
      "execution_count": null,
      "outputs": []
    },
    {
      "cell_type": "code",
      "source": [],
      "metadata": {
        "id": "sHP9f23ghMTA"
      },
      "execution_count": null,
      "outputs": []
    }
  ]
}